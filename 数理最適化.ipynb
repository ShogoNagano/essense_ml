{
 "cells": [
  {
   "cell_type": "code",
   "execution_count": 4,
   "metadata": {},
   "outputs": [],
   "source": [
    "import numpy as np\n",
    "from scipy import optimize\n",
    "\n",
    "c = np.array([-3,-4],dtype=np.float64)\n",
    "G  = np.array([[1,4], [2,3], [2,1]],dtype=np.float64)\n",
    "h = np.array([1700, 1400, 1000],dtype=np.float64)\n",
    "sol = optimize.linprog(c, A_ub=G, b_ub=h, bounds=(0,None))"
   ]
  },
  {
   "cell_type": "code",
   "execution_count": 5,
   "metadata": {},
   "outputs": [
    {
     "name": "stdout",
     "output_type": "stream",
     "text": [
      "[400. 200.]\n",
      "-2000.0\n"
     ]
    }
   ],
   "source": [
    "print(sol.x)\n",
    "print(sol.fun)"
   ]
  },
  {
   "cell_type": "code",
   "execution_count": 9,
   "metadata": {},
   "outputs": [
    {
     "name": "stdout",
     "output_type": "stream",
     "text": [
      "[[ 1.57009246e-16]\n",
      " [-2.00000000e+00]]\n",
      "-4.0\n"
     ]
    }
   ],
   "source": [
    "import numpy as np\n",
    "import cvxopt\n",
    "\n",
    "P = cvxopt.matrix(np.array([[2,1],[1,2]],dtype=np.float64))\n",
    "q = cvxopt.matrix(np.array([2,4], dtype = np.float64))\n",
    "\n",
    "sol = cvxopt.solvers.qp(P,q)\n",
    "\n",
    "print(np.array(sol[\"x\"]))\n",
    "print(np.array(sol[\"primal objective\"]))"
   ]
  },
  {
   "cell_type": "code",
   "execution_count": null,
   "metadata": {},
   "outputs": [],
   "source": []
  }
 ],
 "metadata": {
  "kernelspec": {
   "display_name": "Python 3",
   "language": "python",
   "name": "python3"
  },
  "language_info": {
   "codemirror_mode": {
    "name": "ipython",
    "version": 3
   },
   "file_extension": ".py",
   "mimetype": "text/x-python",
   "name": "python",
   "nbconvert_exporter": "python",
   "pygments_lexer": "ipython3",
   "version": "3.6.5"
  }
 },
 "nbformat": 4,
 "nbformat_minor": 2
}
