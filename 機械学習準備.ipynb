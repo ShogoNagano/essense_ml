{
 "cells": [
  {
   "cell_type": "code",
   "execution_count": null,
   "metadata": {},
   "outputs": [],
   "source": [
    "#回帰\n",
    "x = [1, 2, 4, 6, 7]\n",
    "y = [1, 3, 3, 5, 4]"
   ]
  },
  {
   "cell_type": "code",
   "execution_count": null,
   "metadata": {},
   "outputs": [],
   "source": [
    "#最小二乗法のスクラッチ\n",
    "import numpy as np\n",
    "import matplotlib.pyplot as plt\n",
    "\n",
    "def reg1dim1(x,y):\n",
    "    a = np.dot(x, y)/(x**2).sum()\n",
    "    return a\n",
    "\n",
    "x = np.array([1,2,4,6,7])\n",
    "y = np.array([1,3,3,5,4])\n",
    "a = reg1dim1(x,y)\n",
    "\n",
    "plt.scatter(x, y, color = \"k\")\n",
    "xmax = x.max()\n",
    "plt.plot([0, xmax],[0, a*xmax], color =\"k\")\n",
    "plt.show()"
   ]
  },
  {
   "cell_type": "code",
   "execution_count": null,
   "metadata": {},
   "outputs": [],
   "source": [
    "reg1dim1(x,y)*"
   ]
  },
  {
   "cell_type": "code",
   "execution_count": null,
   "metadata": {},
   "outputs": [],
   "source": [
    "np.dot(x, y)"
   ]
  },
  {
   "cell_type": "code",
   "execution_count": null,
   "metadata": {},
   "outputs": [],
   "source": [
    "import numpy as np\n",
    "import matplotlib.pyplot as plt\n",
    "\n",
    "def reg1dim2(x, y):\n",
    "    n = len(x)\n",
    "    a = ((np.dot(x, y) - y.sum() * x.sum() / n)/\n",
    "        ((x ** 2).sum() - x.sum()**2 / n))\n",
    "    b = (y.sum() - a * x.sum())/n\n",
    "    return a, b\n",
    "\n",
    "x = np.array([1,2,4,6,7])\n",
    "y = np.array([1,3,3,5,4])\n",
    "a, b = reg1dim2(x,y)\n",
    "\n",
    "plt.scatter(x, y, color=\"k\")\n",
    "xmax = x.max()\n",
    "plt.plot([0, xmax], [b, a * xmax + b], color = \"k\")\n",
    "plt.show()"
   ]
  },
  {
   "cell_type": "code",
   "execution_count": 1,
   "metadata": {},
   "outputs": [
    {
     "name": "stdout",
     "output_type": "stream",
     "text": [
      "係数 [1.11450326 1.95737004 3.00295751]\n",
      "(1, 1)に対する予測値: [6.07483081]\n"
     ]
    }
   ],
   "source": [
    "import linearreg\n",
    "import numpy as np\n",
    "import matplotlib.pyplot as plt\n",
    "from mpl_toolkits.mplot3d import axes3d\n",
    "\n",
    "n = 100\n",
    "scale = 10\n",
    "np.random.seed(0)\n",
    "X = np.random.random((n,2)) * scale\n",
    "w0 = 1\n",
    "w1 = 2\n",
    "w2 = 3\n",
    "y = w0 + w1 * X[:, 0] + w2 * X[:, 1] + np.random.randn(n) \n",
    "\n",
    "model = linearreg.LinearRegression()\n",
    "model.fit(X, y)\n",
    "print(\"係数\", model.w_)\n",
    "print(\"(1, 1)に対する予測値:\", model.predict(np.array([1, 1])))"
   ]
  },
  {
   "cell_type": "code",
   "execution_count": null,
   "metadata": {},
   "outputs": [],
   "source": [
    "xtil =np.c_[np.ones(X.shape[0]), X]"
   ]
  },
  {
   "cell_type": "code",
   "execution_count": null,
   "metadata": {},
   "outputs": [],
   "source": [
    "np.c_[np.ones(X.shape[0]), X]"
   ]
  },
  {
   "cell_type": "code",
   "execution_count": null,
   "metadata": {},
   "outputs": [],
   "source": [
    "np.c_[np.ones(X.shape[0]), X]"
   ]
  },
  {
   "cell_type": "code",
   "execution_count": null,
   "metadata": {},
   "outputs": [],
   "source": []
  }
 ],
 "metadata": {
  "kernelspec": {
   "display_name": "Python 3",
   "language": "python",
   "name": "python3"
  },
  "language_info": {
   "codemirror_mode": {
    "name": "ipython",
    "version": 3
   },
   "file_extension": ".py",
   "mimetype": "text/x-python",
   "name": "python",
   "nbconvert_exporter": "python",
   "pygments_lexer": "ipython3",
   "version": "3.6.5"
  }
 },
 "nbformat": 4,
 "nbformat_minor": 2
}
